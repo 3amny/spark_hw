{
 "cells": [
  {
   "cell_type": "code",
   "execution_count": 2,
   "metadata": {},
   "outputs": [
    {
     "data": {
      "text/plain": [
       "1"
      ]
     },
     "execution_count": 2,
     "metadata": {},
     "output_type": "execute_result"
    }
   ],
   "source": [
    "import findspark\n",
    "import sys\n",
    "import os\n",
    "import glob\n",
    "findspark.init()\n",
    "from pyspark.sql import SparkSession, SQLContext\n",
    "from opencage.geocoder import OpenCageGeocode\n",
    "from pyspark.sql.types import StructType, StructField, StringType, FloatType\n",
    "from pyspark.sql.functions import udf, isnull, col, coalesce, when\n",
    "from dotenv import load_dotenv\n",
    "from geohash2 import encode\n",
    "load_dotenv()\n",
    "os.system(\"export PYTHONHASHSEED=0\")\n"
   ]
  },
  {
   "cell_type": "code",
   "execution_count": 3,
   "metadata": {},
   "outputs": [
    {
     "data": {
      "text/plain": [
       "'3.4.0'"
      ]
     },
     "execution_count": 3,
     "metadata": {},
     "output_type": "execute_result"
    }
   ],
   "source": [
    "spark = SparkSession.builder.appName(\"test\") \\\n",
    " .config(\"spark.driver.memory\", \"8g\") \\\n",
    " .config(\"spark.executor.memory\", \"8g\") \\\n",
    " .getOrCreate()\n",
    "spark.version"
   ]
  },
  {
   "cell_type": "code",
   "execution_count": 4,
   "metadata": {},
   "outputs": [
    {
     "name": "stdout",
     "output_type": "stream",
     "text": [
      "+------------+------------+--------------------+-----------------------+-------+--------------+------+--------+\n",
      "|          id|franchise_id|      franchise_name|restaurant_franchise_id|country|          city|   lat|     lng|\n",
      "+------------+------------+--------------------+-----------------------+-------+--------------+------+--------+\n",
      "|197568495625|          10|    The Golden Spoon|                  24784|     US|       Decatur|34.578| -87.021|\n",
      "| 17179869242|          59|         Azalea Cafe|                  10902|     FR|         Paris|48.861|   2.368|\n",
      "|214748364826|          27|     The Corner Cafe|                  92040|     US|    Rapid City|44.080|-103.250|\n",
      "|154618822706|          51|        The Pizzeria|                  41484|     AT|        Vienna|48.213|  16.413|\n",
      "|163208757312|          65|       Chef's Corner|                  96638|     GB|        London|51.495|  -0.191|\n",
      "| 68719476763|          28|    The Spicy Pickle|                  77517|     US|      Grayling|44.657| -84.744|\n",
      "|223338299419|          28|    The Spicy Pickle|                  36937|     US|        Oswego|43.452| -76.532|\n",
      "|240518168650|          75|     Greenhouse Cafe|                  93164|     NL|     Amsterdam|52.370|   4.897|\n",
      "|128849018936|          57|The Yellow Submarine|                   5679|     FR|         Paris|48.872|   2.335|\n",
      "|197568495635|          20|       The Brasserie|                  24784|     US|Jeffersonville|39.616| -83.612|\n",
      "| 68719476768|          33|   The Blue Elephant|                  77517|     IT|         Milan|45.479|   9.146|\n",
      "| 51539607582|          31|           Bistro 42|                   6934|     IT|         Milan|45.444|   9.153|\n",
      "| 94489280554|          43|      The Food House|                  95399|     FR|         Paris|48.867|   2.329|\n",
      "|206158430215|           8|     The Green Olive|                  53370|     US|   Haltom City|32.789| -97.280|\n",
      "|154618822657|           2|        Bella Cucina|                  41484|     US|   Fort Pierce|27.412| -80.391|\n",
      "| 17179869217|          34|     The Tasty Treat|                  10902|     US|     Green Bay|44.476| -88.077|\n",
      "|  8589934633|          42|     The Daily Scoop|                  12630|     FR|         Paris|48.854|   2.343|\n",
      "|240518168596|          21|      The Lazy Daisy|                  93164|     US|    Mendenhall|39.860| -75.646|\n",
      "|171798691906|          67|  Crimson and Clover|                  65939|     NL|     Amsterdam|52.361|   4.894|\n",
      "| 42949673022|          63|          Cafe Paris|                  89646|     GB|        London|51.508|  -0.107|\n",
      "+------------+------------+--------------------+-----------------------+-------+--------------+------+--------+\n",
      "only showing top 20 rows\n",
      "\n"
     ]
    }
   ],
   "source": [
    "res_path = \"./restaurant_csv/restaurant_csv\"\n",
    "res_files = [os.path.join(res_path, f) for f in os.listdir(res_path) if f.endswith('.csv')]\n",
    "res_df = spark.read.format(\"csv\").option(\"header\", \"true\").load(res_files)\n",
    "res_df.show()"
   ]
  },
  {
   "cell_type": "code",
   "execution_count": 5,
   "metadata": {},
   "outputs": [
    {
     "name": "stdout",
     "output_type": "stream",
     "text": [
      "+-----------+------------+--------------+-----------------------+-------+------+----+----+\n",
      "|         id|franchise_id|franchise_name|restaurant_franchise_id|country|  city| lat| lng|\n",
      "+-----------+------------+--------------+-----------------------+-------+------+----+----+\n",
      "|85899345920|           1|       Savoria|                  18952|     US|Dillon|null|null|\n",
      "+-----------+------------+--------------+-----------------------+-------+------+----+----+\n",
      "\n"
     ]
    }
   ],
   "source": [
    "#Check for null values in lat and lng for testing purposes\n",
    "res_df.filter(isnull(\"lat\") | isnull(\"lng\")).show()"
   ]
  },
  {
   "cell_type": "code",
   "execution_count": 6,
   "metadata": {},
   "outputs": [],
   "source": [
    "# Defining the function to get the lat and lng values from OpenCageAPI\n",
    "key = os.getenv('API_KEY')\n",
    "geocoder = OpenCageGeocode(key)\n",
    "def get_lat(city):\n",
    "    result = geocoder.geocode(city)\n",
    "    if result and len(result):\n",
    "        return result[0]['geometry']['lat']\n",
    "    return None\n",
    "\n",
    "def get_lng(city):\n",
    "    result = geocoder.geocode(city)\n",
    "    if result and len(result):\n",
    "        return result[0]['geometry']['lng']\n",
    "    return None\n",
    "#Defining udf function to get a string as a return type\n",
    "get_lat_udf = udf(get_lat, returnType=StringType())\n",
    "get_lng_udf = udf(get_lng, returnType=StringType())"
   ]
  },
  {
   "cell_type": "code",
   "execution_count": 7,
   "metadata": {},
   "outputs": [],
   "source": [
    "# Create a new data frame containing all null lat and lng rows\n",
    "null_lat_lng_df = res_df.filter((isnull(col(\"lat\"))) | (col(\"lat\") == '') | (isnull(col(\"lng\"))) | (col(\"lng\") == ''))\n",
    "\n",
    "# Apply the UDF to the filtered DataFrame\n",
    "updated_null_lat_lng_df = null_lat_lng_df.withColumn(\"lat\", when((isnull(col(\"lat\"))) | (col(\"lat\") == ''), get_lat_udf(col(\"city\"))).otherwise(col(\"lat\")))\n",
    "updated_null_lat_lng_df = updated_null_lat_lng_df.withColumn(\"lng\", when((isnull(col(\"lng\"))) | (col(\"lng\") == ''), get_lng_udf(col(\"city\"))).otherwise(col(\"lng\")))\n"
   ]
  },
  {
   "cell_type": "code",
   "execution_count": 8,
   "metadata": {},
   "outputs": [],
   "source": [
    "# Remove the rows with null or empty lat and lng values from the original DataFrame\n",
    "res_df = res_df.filter(~((isnull(col(\"lat\"))) | (col(\"lat\") == '') | (isnull(col(\"lng\"))) | (col(\"lng\") == '')))\n",
    "\n",
    "# Join the updated rows back to the original DataFrame\n",
    "res_df = res_df.unionByName(updated_null_lat_lng_df)"
   ]
  },
  {
   "cell_type": "code",
   "execution_count": 10,
   "metadata": {},
   "outputs": [
    {
     "name": "stdout",
     "output_type": "stream",
     "text": [
      "+-----------+------------+--------------+-----------------------+-------+------+----------+-----------+\n",
      "|         id|franchise_id|franchise_name|restaurant_franchise_id|country|  city|       lat|        lng|\n",
      "+-----------+------------+--------------+-----------------------+-------+------+----------+-----------+\n",
      "|85899345920|           1|       Savoria|                  18952|     US|Dillon|34.4014089|-79.3864339|\n",
      "+-----------+------------+--------------+-----------------------+-------+------+----------+-----------+\n",
      "\n"
     ]
    }
   ],
   "source": [
    "# Check if the null values were filled\n",
    "res_df.where(col(\"id\") == 85899345920).show()"
   ]
  },
  {
   "cell_type": "code",
   "execution_count": 11,
   "metadata": {},
   "outputs": [],
   "source": [
    "# Defining the geohash function to return encoded lat and lng with percision equal to 4\n",
    "def geohash_udf(lat, lng):\n",
    "    return encode(float(lat), float(lng), precision=4)\n",
    "# UDF function to return String Type\n",
    "geohash_func = udf(geohash_udf, returnType=StringType())"
   ]
  },
  {
   "cell_type": "code",
   "execution_count": 12,
   "metadata": {},
   "outputs": [],
   "source": [
    "# Geohash column to the restaurant dataframe, using cast to ensure that the values of lat and lng are float type\n",
    "res_df = res_df.withColumn('geohash', geohash_func(col('lat'), col('lng')))"
   ]
  },
  {
   "cell_type": "code",
   "execution_count": 14,
   "metadata": {},
   "outputs": [
    {
     "name": "stdout",
     "output_type": "stream",
     "text": [
      "+------------+------------+--------------------+-----------------------+-------+--------------+------+--------+-------+\n",
      "|          id|franchise_id|      franchise_name|restaurant_franchise_id|country|          city|   lat|     lng|geohash|\n",
      "+------------+------------+--------------------+-----------------------+-------+--------------+------+--------+-------+\n",
      "|197568495625|          10|    The Golden Spoon|                  24784|     US|       Decatur|34.578| -87.021|   dn4h|\n",
      "| 17179869242|          59|         Azalea Cafe|                  10902|     FR|         Paris|48.861|   2.368|   u09t|\n",
      "|214748364826|          27|     The Corner Cafe|                  92040|     US|    Rapid City|44.080|-103.250|   9xyd|\n",
      "|154618822706|          51|        The Pizzeria|                  41484|     AT|        Vienna|48.213|  16.413|   u2ed|\n",
      "|163208757312|          65|       Chef's Corner|                  96638|     GB|        London|51.495|  -0.191|   gcpu|\n",
      "| 68719476763|          28|    The Spicy Pickle|                  77517|     US|      Grayling|44.657| -84.744|   dpgw|\n",
      "|223338299419|          28|    The Spicy Pickle|                  36937|     US|        Oswego|43.452| -76.532|   dr9x|\n",
      "|240518168650|          75|     Greenhouse Cafe|                  93164|     NL|     Amsterdam|52.370|   4.897|   u173|\n",
      "|128849018936|          57|The Yellow Submarine|                   5679|     FR|         Paris|48.872|   2.335|   u09w|\n",
      "|197568495635|          20|       The Brasserie|                  24784|     US|Jeffersonville|39.616| -83.612|   dph9|\n",
      "| 68719476768|          33|   The Blue Elephant|                  77517|     IT|         Milan|45.479|   9.146|   u0nd|\n",
      "| 51539607582|          31|           Bistro 42|                   6934|     IT|         Milan|45.444|   9.153|   u0nd|\n",
      "| 94489280554|          43|      The Food House|                  95399|     FR|         Paris|48.867|   2.329|   u09t|\n",
      "|206158430215|           8|     The Green Olive|                  53370|     US|   Haltom City|32.789| -97.280|   9vff|\n",
      "|154618822657|           2|        Bella Cucina|                  41484|     US|   Fort Pierce|27.412| -80.391|   dhyg|\n",
      "| 17179869217|          34|     The Tasty Treat|                  10902|     US|     Green Bay|44.476| -88.077|   dpcm|\n",
      "|  8589934633|          42|     The Daily Scoop|                  12630|     FR|         Paris|48.854|   2.343|   u09t|\n",
      "|240518168596|          21|      The Lazy Daisy|                  93164|     US|    Mendenhall|39.860| -75.646|   dr44|\n",
      "|171798691906|          67|  Crimson and Clover|                  65939|     NL|     Amsterdam|52.361|   4.894|   u173|\n",
      "| 42949673022|          63|          Cafe Paris|                  89646|     GB|        London|51.508|  -0.107|   gcpv|\n",
      "+------------+------------+--------------------+-----------------------+-------+--------------+------+--------+-------+\n",
      "only showing top 20 rows\n",
      "\n"
     ]
    }
   ],
   "source": [
    "# Show the dataframed with geohash\n",
    "res_df.show()"
   ]
  },
  {
   "cell_type": "code",
   "execution_count": 13,
   "metadata": {},
   "outputs": [],
   "source": [
    "# Save restaurant dataframe in the local storage, repartitioning into 5 files \n",
    "res_df.repartition(5).write.parquet('./output_data/restaurant', mode='overwrite')"
   ]
  },
  {
   "cell_type": "code",
   "execution_count": 16,
   "metadata": {},
   "outputs": [],
   "source": [
    "#read data into the new dataframe\n",
    "restaurant_df = spark.read.parquet('./output_data/restaurant/*.parquet')"
   ]
  },
  {
   "cell_type": "code",
   "execution_count": 44,
   "metadata": {},
   "outputs": [],
   "source": [
    "# Set path to weather data\n",
    "weather_path = './weather_data/'\n",
    "\n",
    "# Load all partitions, excluded day, month, year\n",
    "partitions = [spark.read.parquet(partition_path) for partition_path in glob.glob(weather_path + \"*/weather/*/*/*\")]\n",
    "\n",
    "# Union all the partitions\n",
    "weather_df = partitions[0]\n",
    "for partition in partitions[1:]:\n",
    "    weather_df = weather_df.union(partition)\n"
   ]
  },
  {
   "cell_type": "code",
   "execution_count": 45,
   "metadata": {},
   "outputs": [
    {
     "name": "stdout",
     "output_type": "stream",
     "text": [
      "+--------+-------+----------+----------+----------+\n",
      "|     lng|    lat|avg_tmpr_f|avg_tmpr_c| wthr_date|\n",
      "+--------+-------+----------+----------+----------+\n",
      "|-104.423|21.5478|      72.6|      22.6|2017-08-05|\n",
      "|-104.374| 21.551|      71.7|      22.1|2017-08-05|\n",
      "|-104.325|21.5541|      70.8|      21.6|2017-08-05|\n",
      "|-104.276|21.5573|      70.1|      21.2|2017-08-05|\n",
      "|-104.227|21.5604|      69.7|      20.9|2017-08-05|\n",
      "|-104.178|21.5635|      69.3|      20.7|2017-08-05|\n",
      "|-104.129|21.5665|      68.9|      20.5|2017-08-05|\n",
      "| -104.08|21.5696|      68.6|      20.3|2017-08-05|\n",
      "|-104.032|21.5726|      68.3|      20.2|2017-08-05|\n",
      "|-103.983|21.5757|      70.7|      21.5|2017-08-05|\n",
      "|-103.934|21.5787|      73.3|      22.9|2017-08-05|\n",
      "|-103.885|21.5817|      75.3|      24.1|2017-08-05|\n",
      "|-103.836|21.5846|      76.2|      24.6|2017-08-05|\n",
      "|-103.787|21.5876|      77.0|      25.0|2017-08-05|\n",
      "|-103.738|21.5905|      74.6|      23.7|2017-08-05|\n",
      "|-103.689|21.5935|      70.2|      21.2|2017-08-05|\n",
      "| -103.64|21.5964|      65.7|      18.7|2017-08-05|\n",
      "|-103.591|21.5993|      66.0|      18.9|2017-08-05|\n",
      "|-103.542|21.6022|      66.5|      19.2|2017-08-05|\n",
      "|-103.493| 21.605|      67.1|      19.5|2017-08-05|\n",
      "+--------+-------+----------+----------+----------+\n",
      "only showing top 20 rows\n",
      "\n"
     ]
    }
   ],
   "source": [
    "# Check if the data was read \n",
    "weather_df.show()"
   ]
  },
  {
   "cell_type": "code",
   "execution_count": 47,
   "metadata": {},
   "outputs": [],
   "source": [
    "# Geohash column to the weather dataframe, using cast to ensure that the values of lat and lng are float type\n",
    "weather_df = weather_df.withColumn('geohash', geohash_func(col('lat').cast(FloatType()), col('lng').cast(FloatType())))"
   ]
  },
  {
   "cell_type": "code",
   "execution_count": 48,
   "metadata": {},
   "outputs": [
    {
     "name": "stdout",
     "output_type": "stream",
     "text": [
      "+--------+-------+----------+----------+----------+-------+\n",
      "|     lng|    lat|avg_tmpr_f|avg_tmpr_c| wthr_date|geohash|\n",
      "+--------+-------+----------+----------+----------+-------+\n",
      "|-104.423|21.5478|      72.6|      22.6|2017-08-05|   9evd|\n",
      "|-104.374| 21.551|      71.7|      22.1|2017-08-05|   9evf|\n",
      "|-104.325|21.5541|      70.8|      21.6|2017-08-05|   9evf|\n",
      "|-104.276|21.5573|      70.1|      21.2|2017-08-05|   9evf|\n",
      "|-104.227|21.5604|      69.7|      20.9|2017-08-05|   9evf|\n",
      "|-104.178|21.5635|      69.3|      20.7|2017-08-05|   9evf|\n",
      "|-104.129|21.5665|      68.9|      20.5|2017-08-05|   9evf|\n",
      "| -104.08|21.5696|      68.6|      20.3|2017-08-05|   9evf|\n",
      "|-104.032|21.5726|      68.3|      20.2|2017-08-05|   9ey4|\n",
      "|-103.983|21.5757|      70.7|      21.5|2017-08-05|   9ey4|\n",
      "|-103.934|21.5787|      73.3|      22.9|2017-08-05|   9ey4|\n",
      "|-103.885|21.5817|      75.3|      24.1|2017-08-05|   9ey4|\n",
      "|-103.836|21.5846|      76.2|      24.6|2017-08-05|   9ey4|\n",
      "|-103.787|21.5876|      77.0|      25.0|2017-08-05|   9ey4|\n",
      "|-103.738|21.5905|      74.6|      23.7|2017-08-05|   9ey4|\n",
      "|-103.689|21.5935|      70.2|      21.2|2017-08-05|   9ey6|\n",
      "| -103.64|21.5964|      65.7|      18.7|2017-08-05|   9ey6|\n",
      "|-103.591|21.5993|      66.0|      18.9|2017-08-05|   9ey6|\n",
      "|-103.542|21.6022|      66.5|      19.2|2017-08-05|   9ey6|\n",
      "|-103.493| 21.605|      67.1|      19.5|2017-08-05|   9ey6|\n",
      "+--------+-------+----------+----------+----------+-------+\n",
      "only showing top 20 rows\n",
      "\n"
     ]
    }
   ],
   "source": [
    "# Show dataframe with geohash\n",
    "weather_df.show()"
   ]
  },
  {
   "cell_type": "code",
   "execution_count": 49,
   "metadata": {},
   "outputs": [],
   "source": [
    "# Dropping duplicates on geohash and wthr_date to avoid data duplication before joining. \n",
    "weather_df = weather_df.dropDuplicates(['wthr_date', 'geohash'])"
   ]
  },
  {
   "cell_type": "code",
   "execution_count": 50,
   "metadata": {},
   "outputs": [],
   "source": [
    "# Drop lat and lng as they are not needed, as we have lat and lng in res df\n",
    "weather_df = weather_df.drop(\"lat\", \"lng\")"
   ]
  },
  {
   "cell_type": "code",
   "execution_count": 51,
   "metadata": {},
   "outputs": [],
   "source": [
    "# Write parquet decresing number of partition to 10 using coalesce\n",
    "weather_df.coalesce(10).write.parquet('./output_data/weather', mode='overwrite')"
   ]
  },
  {
   "cell_type": "code",
   "execution_count": 52,
   "metadata": {},
   "outputs": [],
   "source": [
    "# Read the data\n",
    "weather_dtf = spark.read.parquet('./output_data/weather/*.parquet')"
   ]
  },
  {
   "cell_type": "code",
   "execution_count": 53,
   "metadata": {},
   "outputs": [
    {
     "name": "stdout",
     "output_type": "stream",
     "text": [
      "+----------+----------+----------+-------+\n",
      "|avg_tmpr_f|avg_tmpr_c| wthr_date|geohash|\n",
      "+----------+----------+----------+-------+\n",
      "|      86.3|      30.2|2017-08-05|   d5uh|\n",
      "|      85.5|      29.7|2017-08-05|   9gcz|\n",
      "|      87.1|      30.6|2017-08-05|   9s7f|\n",
      "|      84.5|      29.2|2017-08-05|   dk22|\n",
      "|      79.5|      26.4|2017-08-05|   9sxf|\n",
      "|      81.8|      27.7|2017-08-05|   9s8c|\n",
      "|      77.9|      25.5|2017-08-05|   9tp8|\n",
      "|      82.8|      28.2|2017-08-05|   9vps|\n",
      "|      83.8|      28.8|2017-08-05|   9v73|\n",
      "|      81.2|      27.3|2017-08-05|   djjy|\n",
      "|      82.6|      28.1|2017-08-05|   9v7f|\n",
      "|      82.9|      28.3|2017-08-05|   djk6|\n",
      "|      78.4|      25.8|2017-08-05|   djt0|\n",
      "|      69.1|      20.6|2017-08-05|   9mms|\n",
      "|      79.0|      26.1|2017-08-05|   9te4|\n",
      "|      81.0|      27.2|2017-08-05|   djdj|\n",
      "|      78.7|      25.9|2017-08-05|   9tem|\n",
      "|      87.1|      30.6|2017-08-05|   9mx5|\n",
      "|      77.5|      25.3|2017-08-05|   9tg3|\n",
      "|      78.5|      25.8|2017-08-05|   djbm|\n",
      "+----------+----------+----------+-------+\n",
      "only showing top 20 rows\n",
      "\n"
     ]
    }
   ],
   "source": [
    "# Check if the data was read\n",
    "weather_dtf.show()"
   ]
  },
  {
   "cell_type": "code",
   "execution_count": 54,
   "metadata": {},
   "outputs": [],
   "source": [
    "# Left join the weather_dft and restaurant_df on geohash\n",
    "joined_df = weather_dtf.join(restaurant_df, on=['geohash'], how='left')"
   ]
  },
  {
   "cell_type": "code",
   "execution_count": 58,
   "metadata": {},
   "outputs": [
    {
     "name": "stdout",
     "output_type": "stream",
     "text": [
      "root\n",
      " |-- geohash: string (nullable = true)\n",
      " |-- avg_tmpr_f: double (nullable = true)\n",
      " |-- avg_tmpr_c: double (nullable = true)\n",
      " |-- wthr_date: string (nullable = true)\n",
      " |-- id: string (nullable = true)\n",
      " |-- franchise_id: string (nullable = true)\n",
      " |-- franchise_name: string (nullable = true)\n",
      " |-- restaurant_franchise_id: string (nullable = true)\n",
      " |-- country: string (nullable = true)\n",
      " |-- city: string (nullable = true)\n",
      " |-- lat: string (nullable = true)\n",
      " |-- lng: string (nullable = true)\n",
      "\n"
     ]
    }
   ],
   "source": [
    "# See if the left join was completed succesfully \n",
    "joined_df.printSchema()"
   ]
  },
  {
   "cell_type": "code",
   "execution_count": 55,
   "metadata": {},
   "outputs": [],
   "source": [
    "# Drop rows with null values\n",
    "filtered_joined_df = joined_df.dropna()"
   ]
  },
  {
   "cell_type": "code",
   "execution_count": 56,
   "metadata": {},
   "outputs": [],
   "source": [
    "# Write a parquet file partitionedBy franchise_name\n",
    "filtered_joined_df.write.partitionBy('franchise_name').parquet('./enriched_data', mode='overwrite')"
   ]
  },
  {
   "cell_type": "code",
   "execution_count": 59,
   "metadata": {},
   "outputs": [
    {
     "name": "stdout",
     "output_type": "stream",
     "text": [
      "+-------+----------+----------+----------+------------+------------+------------------+-----------------------+-------+----------------+------+--------+\n",
      "|geohash|avg_tmpr_f|avg_tmpr_c| wthr_date|          id|franchise_id|    franchise_name|restaurant_franchise_id|country|            city|   lat|     lng|\n",
      "+-------+----------+----------+----------+------------+------------+------------------+-----------------------+-------+----------------+------+--------+\n",
      "|   dpey|      64.3|      17.9|2017-08-05|180388626456|          25|     The Cozy Cafe|                   7531|     US|            Alma|43.377| -84.607|\n",
      "|   9yuv|      61.9|      16.6|2017-08-05|154618822674|          19|  The Tasting Room|                  41484|     US|     Lees Summit|38.903| -94.357|\n",
      "|   dn6j|      69.1|      20.6|2017-08-05|  8589934599|           8|   The Green Olive|                  12630|     US|       Nashville|36.079| -86.955|\n",
      "|   9q92|      69.0|      20.6|2017-08-05|249108103182|          15| The Pearl Kitchen|                  55897|     US|          Marina|36.699|-121.806|\n",
      "|   9q92|      69.0|      20.6|2017-08-05|111669149709|          14|The Gourmet Garden|                  84488|     US|        Monterey|36.601|-121.896|\n",
      "|   9q92|      69.0|      20.6|2017-08-05|266287972361|          10|  The Golden Spoon|                  11263|     US|          Marina|36.684|-121.792|\n",
      "|   9wvm|      47.1|       8.4|2017-08-05|  8589934604|          13|     The Firehouse|                  12630|     US|Colorado Springs|38.880|-104.868|\n",
      "|   9wvm|      47.1|       8.4|2017-08-05|231928233996|          13|     The Firehouse|                  33573|     US|Colorado Springs|38.916|-104.824|\n",
      "|   9xhr|      58.5|      14.7|2017-08-05|137438953485|          14|The Gourmet Garden|                  11038|     US|          Walden|40.730|-106.282|\n",
      "|   djmv|      80.7|      27.1|2017-08-05|206158430212|           5|  The Hungry Hippo|                  53370|     US|    Jacksonville|30.480| -81.649|\n",
      "|   dhv7|      86.2|      30.1|2017-08-05|206158430210|           3|      Spice Bazaar|                  53370|     US|        Sarasota|27.382| -82.550|\n",
      "|   dhv7|      86.2|      30.1|2017-08-05|249108103169|           2|      Bella Cucina|                  55897|     US|        Sarasota|27.300| -82.450|\n",
      "|   9vdd|      85.2|      29.6|2017-08-05|103079215109|           6|   The Daily Grind|                   4340|     US|      Gatesville|31.434| -97.715|\n",
      "|   dnh1|      78.0|      25.6|2017-08-05|197568495623|           8|   The Green Olive|                  24784|     US|      Alpharetta|34.042| -84.304|\n",
      "|   dnh1|      78.0|      25.6|2017-08-05| 17179869190|           7|         Cafe Roma|                  10902|     US|          Duluth|33.951| -84.125|\n",
      "|   dqcj|      72.8|      22.7|2017-08-05|111669149713|          18|  The Harvest Room|                  84488|     US|     Takoma Park|38.975| -77.010|\n",
      "|   dqcj|      72.8|      22.7|2017-08-05|240518168593|          18|  The Harvest Room|                  93164|     US|       Arlington|38.895| -77.072|\n",
      "|   dr0m|      64.4|      18.0|2017-08-05|266287972369|          18|  The Harvest Room|                  11263|     US|        Entriken|40.340| -78.201|\n",
      "|   9w0f|      81.8|      27.7|2017-08-05|154618822664|           9|   The Grill House|                  41484|     US|          Payson|34.255|-111.274|\n",
      "|   9wnd|      77.8|      25.4|2017-08-05| 17179869193|          10|  The Golden Spoon|                  10902|     US|        Portales|34.181|-103.346|\n",
      "+-------+----------+----------+----------+------------+------------+------------------+-----------------------+-------+----------------+------+--------+\n",
      "only showing top 20 rows\n",
      "\n"
     ]
    }
   ],
   "source": [
    "# Showing results \n",
    "filtered_joined_df.show()"
   ]
  },
  {
   "cell_type": "code",
   "execution_count": 57,
   "metadata": {},
   "outputs": [
    {
     "name": "stdout",
     "output_type": "stream",
     "text": [
      "+-------+----------+----------+----------+------------+------------+--------------+-----------------------+-------+----+------+-------+\n",
      "|geohash|avg_tmpr_f|avg_tmpr_c| wthr_date|          id|franchise_id|franchise_name|restaurant_franchise_id|country|city|   lat|    lng|\n",
      "+-------+----------+----------+----------+------------+------------+--------------+-----------------------+-------+----+------+-------+\n",
      "|   dpey|      64.3|      17.9|2017-08-05|180388626456|          25| The Cozy Cafe|                   7531|     US|Alma|43.377|-84.607|\n",
      "|   dpey|      66.2|      19.0|2017-08-13|180388626456|          25| The Cozy Cafe|                   7531|     US|Alma|43.377|-84.607|\n",
      "|   dpey|      69.3|      20.7|2017-08-19|180388626456|          25| The Cozy Cafe|                   7531|     US|Alma|43.377|-84.607|\n",
      "|   dpey|      62.0|      16.7|2017-08-28|180388626456|          25| The Cozy Cafe|                   7531|     US|Alma|43.377|-84.607|\n",
      "|   dpey|      65.3|      18.5|2016-10-06|180388626456|          25| The Cozy Cafe|                   7531|     US|Alma|43.377|-84.607|\n",
      "|   dpey|      68.1|      20.1|2017-08-18|180388626456|          25| The Cozy Cafe|                   7531|     US|Alma|43.377|-84.607|\n",
      "|   dpey|      62.6|      17.0|2017-08-23|180388626456|          25| The Cozy Cafe|                   7531|     US|Alma|43.377|-84.607|\n",
      "|   dpey|      67.4|      19.7|2017-08-30|180388626456|          25| The Cozy Cafe|                   7531|     US|Alma|43.377|-84.607|\n",
      "|   dpey|      59.3|      15.2|2016-10-02|180388626456|          25| The Cozy Cafe|                   7531|     US|Alma|43.377|-84.607|\n",
      "|   dpey|      73.2|      22.9|2017-09-17|180388626456|          25| The Cozy Cafe|                   7531|     US|Alma|43.377|-84.607|\n",
      "|   dpey|      76.0|      24.4|2017-09-25|180388626456|          25| The Cozy Cafe|                   7531|     US|Alma|43.377|-84.607|\n",
      "|   dpey|      59.3|      15.2|2017-09-28|180388626456|          25| The Cozy Cafe|                   7531|     US|Alma|43.377|-84.607|\n",
      "|   dpey|      50.9|      10.5|2017-09-30|180388626456|          25| The Cozy Cafe|                   7531|     US|Alma|43.377|-84.607|\n",
      "|   dpey|      62.0|      16.7|2016-10-29|180388626456|          25| The Cozy Cafe|                   7531|     US|Alma|43.377|-84.607|\n",
      "|   dpey|      65.3|      18.5|2017-08-06|180388626456|          25| The Cozy Cafe|                   7531|     US|Alma|43.377|-84.607|\n",
      "|   dpey|      72.8|      22.7|2017-08-17|180388626456|          25| The Cozy Cafe|                   7531|     US|Alma|43.377|-84.607|\n",
      "|   dpey|      62.1|      16.7|2017-09-12|180388626456|          25| The Cozy Cafe|                   7531|     US|Alma|43.377|-84.607|\n",
      "|   dpey|      63.4|      17.4|2017-09-19|180388626456|          25| The Cozy Cafe|                   7531|     US|Alma|43.377|-84.607|\n",
      "|   dpey|      66.8|      19.3|2016-10-05|180388626456|          25| The Cozy Cafe|                   7531|     US|Alma|43.377|-84.607|\n",
      "|   dpey|      46.4|       8.0|2016-10-24|180388626456|          25| The Cozy Cafe|                   7531|     US|Alma|43.377|-84.607|\n",
      "+-------+----------+----------+----------+------------+------------+--------------+-----------------------+-------+----+------+-------+\n",
      "only showing top 20 rows\n",
      "\n"
     ]
    },
    {
     "data": {
      "text/plain": [
       "92"
      ]
     },
     "execution_count": 57,
     "metadata": {},
     "output_type": "execute_result"
    }
   ],
   "source": [
    "# Checking data integrity\n",
    "filtered_joined_df.where(col('geohash') == 'dpey').show()\n",
    "filtered_joined_df.where(col('geohash') == 'dpey').count()"
   ]
  }
 ],
 "metadata": {
  "kernelspec": {
   "display_name": ".env_spark",
   "language": "python",
   "name": "python3"
  },
  "language_info": {
   "codemirror_mode": {
    "name": "ipython",
    "version": 3
   },
   "file_extension": ".py",
   "mimetype": "text/x-python",
   "name": "python",
   "nbconvert_exporter": "python",
   "pygments_lexer": "ipython3",
   "version": "3.11.3"
  },
  "orig_nbformat": 4
 },
 "nbformat": 4,
 "nbformat_minor": 2
}
